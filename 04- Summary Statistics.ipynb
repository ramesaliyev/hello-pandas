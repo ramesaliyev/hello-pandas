{
 "cells": [
  {
   "cell_type": "code",
   "execution_count": 1,
   "id": "756ffc83-a92e-4719-a938-eea6ece01400",
   "metadata": {},
   "outputs": [],
   "source": [
    "import warnings\n",
    "warnings.filterwarnings('ignore')"
   ]
  },
  {
   "cell_type": "code",
   "execution_count": 2,
   "id": "fdaba875-7f86-43be-ba17-2e37bbdf39a6",
   "metadata": {},
   "outputs": [],
   "source": [
    "import pandas as pd\n",
    "df = pd.read_csv('./datasets/game_sales.csv')"
   ]
  },
  {
   "cell_type": "code",
   "execution_count": 3,
   "id": "3b94b741-5f89-4f75-9572-fa29f2e9bff4",
   "metadata": {},
   "outputs": [],
   "source": [
    "# shuffle data\n",
    "df = df.sample(frac=1)"
   ]
  },
  {
   "cell_type": "code",
   "execution_count": 4,
   "id": "4da21c24-368b-4769-bf40-ea16605ecda3",
   "metadata": {},
   "outputs": [
    {
     "data": {
      "text/html": [
       "<div>\n",
       "<style scoped>\n",
       "    .dataframe tbody tr th:only-of-type {\n",
       "        vertical-align: middle;\n",
       "    }\n",
       "\n",
       "    .dataframe tbody tr th {\n",
       "        vertical-align: top;\n",
       "    }\n",
       "\n",
       "    .dataframe thead th {\n",
       "        text-align: right;\n",
       "    }\n",
       "</style>\n",
       "<table border=\"1\" class=\"dataframe\">\n",
       "  <thead>\n",
       "    <tr style=\"text-align: right;\">\n",
       "      <th></th>\n",
       "      <th>name</th>\n",
       "      <th>platform</th>\n",
       "      <th>year</th>\n",
       "      <th>genre</th>\n",
       "      <th>publisher</th>\n",
       "      <th>na_sales</th>\n",
       "      <th>eu_sales</th>\n",
       "      <th>jp_sales</th>\n",
       "      <th>other_sales</th>\n",
       "      <th>global_sales</th>\n",
       "      <th>critic_score</th>\n",
       "      <th>critic_count</th>\n",
       "      <th>user_score</th>\n",
       "      <th>user_count</th>\n",
       "      <th>rating</th>\n",
       "      <th>date</th>\n",
       "    </tr>\n",
       "  </thead>\n",
       "  <tbody>\n",
       "    <tr>\n",
       "      <th>5974</th>\n",
       "      <td>Spider-Man: Friend or Foe</td>\n",
       "      <td>X360</td>\n",
       "      <td>2007.0</td>\n",
       "      <td>Action</td>\n",
       "      <td>Activision</td>\n",
       "      <td>0.26</td>\n",
       "      <td>0.01</td>\n",
       "      <td>0.00</td>\n",
       "      <td>0.02</td>\n",
       "      <td>0.29</td>\n",
       "      <td>60.0</td>\n",
       "      <td>51.0</td>\n",
       "      <td>6.3</td>\n",
       "      <td>26.0</td>\n",
       "      <td>E10+</td>\n",
       "      <td>2007-03-15</td>\n",
       "    </tr>\n",
       "    <tr>\n",
       "      <th>8237</th>\n",
       "      <td>Pro Yaky? Spirits 5</td>\n",
       "      <td>PS2</td>\n",
       "      <td>2008.0</td>\n",
       "      <td>Sports</td>\n",
       "      <td>Konami Digital Entertainment</td>\n",
       "      <td>0.00</td>\n",
       "      <td>0.00</td>\n",
       "      <td>0.18</td>\n",
       "      <td>0.00</td>\n",
       "      <td>0.18</td>\n",
       "      <td>NaN</td>\n",
       "      <td>NaN</td>\n",
       "      <td>NaN</td>\n",
       "      <td>NaN</td>\n",
       "      <td>NaN</td>\n",
       "      <td>2008-01-15</td>\n",
       "    </tr>\n",
       "    <tr>\n",
       "      <th>2312</th>\n",
       "      <td>MLB 2005</td>\n",
       "      <td>PS2</td>\n",
       "      <td>2004.0</td>\n",
       "      <td>Sports</td>\n",
       "      <td>Sony Computer Entertainment</td>\n",
       "      <td>0.44</td>\n",
       "      <td>0.35</td>\n",
       "      <td>0.00</td>\n",
       "      <td>0.12</td>\n",
       "      <td>0.90</td>\n",
       "      <td>78.0</td>\n",
       "      <td>36.0</td>\n",
       "      <td>7.6</td>\n",
       "      <td>9.0</td>\n",
       "      <td>E</td>\n",
       "      <td>2004-06-20</td>\n",
       "    </tr>\n",
       "    <tr>\n",
       "      <th>5019</th>\n",
       "      <td>Junior Classic Games</td>\n",
       "      <td>DS</td>\n",
       "      <td>2009.0</td>\n",
       "      <td>Misc</td>\n",
       "      <td>Avanquest</td>\n",
       "      <td>0.26</td>\n",
       "      <td>0.09</td>\n",
       "      <td>0.00</td>\n",
       "      <td>0.03</td>\n",
       "      <td>0.38</td>\n",
       "      <td>NaN</td>\n",
       "      <td>NaN</td>\n",
       "      <td>NaN</td>\n",
       "      <td>NaN</td>\n",
       "      <td>E</td>\n",
       "      <td>2009-07-15</td>\n",
       "    </tr>\n",
       "    <tr>\n",
       "      <th>2673</th>\n",
       "      <td>Resident Evil: Operation Raccoon City</td>\n",
       "      <td>X360</td>\n",
       "      <td>2012.0</td>\n",
       "      <td>Action</td>\n",
       "      <td>Capcom</td>\n",
       "      <td>0.55</td>\n",
       "      <td>0.14</td>\n",
       "      <td>0.03</td>\n",
       "      <td>0.06</td>\n",
       "      <td>0.77</td>\n",
       "      <td>52.0</td>\n",
       "      <td>56.0</td>\n",
       "      <td>4.9</td>\n",
       "      <td>331.0</td>\n",
       "      <td>M</td>\n",
       "      <td>2012-09-05</td>\n",
       "    </tr>\n",
       "  </tbody>\n",
       "</table>\n",
       "</div>"
      ],
      "text/plain": [
       "                                       name platform    year   genre  \\\n",
       "5974              Spider-Man: Friend or Foe     X360  2007.0  Action   \n",
       "8237                    Pro Yaky? Spirits 5      PS2  2008.0  Sports   \n",
       "2312                               MLB 2005      PS2  2004.0  Sports   \n",
       "5019                   Junior Classic Games       DS  2009.0    Misc   \n",
       "2673  Resident Evil: Operation Raccoon City     X360  2012.0  Action   \n",
       "\n",
       "                         publisher  na_sales  eu_sales  jp_sales  other_sales  \\\n",
       "5974                    Activision      0.26      0.01      0.00         0.02   \n",
       "8237  Konami Digital Entertainment      0.00      0.00      0.18         0.00   \n",
       "2312   Sony Computer Entertainment      0.44      0.35      0.00         0.12   \n",
       "5019                     Avanquest      0.26      0.09      0.00         0.03   \n",
       "2673                        Capcom      0.55      0.14      0.03         0.06   \n",
       "\n",
       "      global_sales  critic_score  critic_count  user_score  user_count rating  \\\n",
       "5974          0.29          60.0          51.0         6.3        26.0   E10+   \n",
       "8237          0.18           NaN           NaN         NaN         NaN    NaN   \n",
       "2312          0.90          78.0          36.0         7.6         9.0      E   \n",
       "5019          0.38           NaN           NaN         NaN         NaN      E   \n",
       "2673          0.77          52.0          56.0         4.9       331.0      M   \n",
       "\n",
       "            date  \n",
       "5974  2007-03-15  \n",
       "8237  2008-01-15  \n",
       "2312  2004-06-20  \n",
       "5019  2009-07-15  \n",
       "2673  2012-09-05  "
      ]
     },
     "execution_count": 4,
     "metadata": {},
     "output_type": "execute_result"
    }
   ],
   "source": [
    "df.head()"
   ]
  },
  {
   "cell_type": "code",
   "execution_count": 5,
   "id": "4001cf1c-6e2c-4ade-acdc-e9171ed12535",
   "metadata": {},
   "outputs": [
    {
     "name": "stdout",
     "output_type": "stream",
     "text": [
      "mean    : 0.5166946231617646\n",
      "median  : 0.16\n",
      "mode    : 0.01\n",
      "min     : 0.01\n",
      "max     : 82.54\n",
      "var     : 2.33001499446296\n",
      "std     : 1.5264386638391205\n",
      "sum     : 8994.619999999999\n",
      "quantile: 0.16\n"
     ]
    }
   ],
   "source": [
    "global_sales = df[\"global_sales\"]\n",
    "\n",
    "print(\"mean    :\", global_sales.mean())\n",
    "print(\"median  :\", global_sales.median()) \n",
    "print(\"mode    :\", global_sales.mode()[0]) # returns the modes of each column or row.\n",
    "print(\"min     :\", global_sales.min())\n",
    "print(\"max     :\", global_sales.max())\n",
    "print(\"var     :\", global_sales.var())\n",
    "print(\"std     :\", global_sales.std())\n",
    "print(\"sum     :\", global_sales.sum())\n",
    "print(\"quantile:\", global_sales.quantile())"
   ]
  },
  {
   "cell_type": "code",
   "execution_count": 6,
   "id": "b898ca50-6261-42da-8467-45336aa27feb",
   "metadata": {},
   "outputs": [
    {
     "data": {
      "text/plain": [
       "'1976-04-10'"
      ]
     },
     "execution_count": 6,
     "metadata": {},
     "output_type": "execute_result"
    }
   ],
   "source": [
    "df['date'].min()"
   ]
  },
  {
   "cell_type": "code",
   "execution_count": 7,
   "id": "9b5ac098-6be2-4d3d-9aeb-a91e36068dae",
   "metadata": {},
   "outputs": [
    {
     "data": {
      "text/plain": [
       "'2017-09-16'"
      ]
     },
     "execution_count": 7,
     "metadata": {},
     "output_type": "execute_result"
    }
   ],
   "source": [
    "df['date'].max()"
   ]
  },
  {
   "cell_type": "code",
   "execution_count": 8,
   "id": "7844f256-7fe9-48d5-a710-4da13752d69f",
   "metadata": {},
   "outputs": [],
   "source": [
    "def normalized_mean(col):\n",
    "    return col.mean() / (col.max() - col.min())\n",
    "\n",
    "def normalized_median(col):\n",
    "    return col.median() / (col.max() - col.min())\n",
    "\n",
    "def iqr(column):\n",
    "    return column.quantile(0.75) - column.quantile(0.25)"
   ]
  },
  {
   "cell_type": "code",
   "execution_count": 9,
   "id": "e79765f6-a8c6-4322-864e-01cd18549d4f",
   "metadata": {},
   "outputs": [
    {
     "data": {
      "text/plain": [
       "global_sales    0.4\n",
       "dtype: float64"
      ]
     },
     "execution_count": 9,
     "metadata": {},
     "output_type": "execute_result"
    }
   ],
   "source": [
    "df[['global_sales']].agg(iqr)"
   ]
  },
  {
   "cell_type": "code",
   "execution_count": 10,
   "id": "1c1958ed-bc6f-4b24-a2d5-f4badefd0a22",
   "metadata": {},
   "outputs": [
    {
     "data": {
      "text/plain": [
       "global_sales    0.16\n",
       "dtype: float64"
      ]
     },
     "execution_count": 10,
     "metadata": {},
     "output_type": "execute_result"
    }
   ],
   "source": [
    "import numpy as np\n",
    "df[['global_sales']].agg(np.median)"
   ]
  },
  {
   "cell_type": "code",
   "execution_count": 11,
   "id": "92601c8d-4304-460f-bc1c-3900328ee0df",
   "metadata": {},
   "outputs": [
    {
     "data": {
      "text/plain": [
       "global_sales    0.006261\n",
       "dtype: float64"
      ]
     },
     "execution_count": 11,
     "metadata": {},
     "output_type": "execute_result"
    }
   ],
   "source": [
    "df[['global_sales']].agg(normalized_mean)"
   ]
  },
  {
   "cell_type": "code",
   "execution_count": 12,
   "id": "0bb72a20-adbf-447a-ac76-76d223f2ec70",
   "metadata": {},
   "outputs": [
    {
     "data": {
      "text/plain": [
       "critic_score    0.810757\n",
       "user_score      0.733717\n",
       "dtype: float64"
      ]
     },
     "execution_count": 12,
     "metadata": {},
     "output_type": "execute_result"
    }
   ],
   "source": [
    "df[['critic_score', 'user_score']].agg(normalized_mean)"
   ]
  },
  {
   "cell_type": "code",
   "execution_count": 13,
   "id": "9429400e-c905-47e5-8a34-78397cdc13f6",
   "metadata": {},
   "outputs": [
    {
     "data": {
      "text/plain": [
       "normalized_mean      0.006261\n",
       "normalized_median    0.001939\n",
       "Name: global_sales, dtype: float64"
      ]
     },
     "execution_count": 13,
     "metadata": {},
     "output_type": "execute_result"
    }
   ],
   "source": [
    "df['global_sales'].agg([normalized_mean, normalized_median])"
   ]
  },
  {
   "cell_type": "code",
   "execution_count": 14,
   "id": "2b902385-a8c7-4d1b-9c22-f52df4989ba7",
   "metadata": {},
   "outputs": [
    {
     "data": {
      "text/html": [
       "<div>\n",
       "<style scoped>\n",
       "    .dataframe tbody tr th:only-of-type {\n",
       "        vertical-align: middle;\n",
       "    }\n",
       "\n",
       "    .dataframe tbody tr th {\n",
       "        vertical-align: top;\n",
       "    }\n",
       "\n",
       "    .dataframe thead th {\n",
       "        text-align: right;\n",
       "    }\n",
       "</style>\n",
       "<table border=\"1\" class=\"dataframe\">\n",
       "  <thead>\n",
       "    <tr style=\"text-align: right;\">\n",
       "      <th></th>\n",
       "      <th>critic_score</th>\n",
       "      <th>user_score</th>\n",
       "    </tr>\n",
       "  </thead>\n",
       "  <tbody>\n",
       "    <tr>\n",
       "      <th>normalized_mean</th>\n",
       "      <td>0.810757</td>\n",
       "      <td>0.733717</td>\n",
       "    </tr>\n",
       "    <tr>\n",
       "      <th>normalized_median</th>\n",
       "      <td>0.835294</td>\n",
       "      <td>0.773196</td>\n",
       "    </tr>\n",
       "  </tbody>\n",
       "</table>\n",
       "</div>"
      ],
      "text/plain": [
       "                   critic_score  user_score\n",
       "normalized_mean        0.810757    0.733717\n",
       "normalized_median      0.835294    0.773196"
      ]
     },
     "execution_count": 14,
     "metadata": {},
     "output_type": "execute_result"
    }
   ],
   "source": [
    "df[['critic_score', 'user_score']].agg([normalized_mean, normalized_median])"
   ]
  },
  {
   "cell_type": "code",
   "execution_count": 15,
   "id": "1197cbcf-b198-4732-92a7-d643829f5a3d",
   "metadata": {},
   "outputs": [
    {
     "data": {
      "text/plain": [
       "5974        0.29\n",
       "8237        0.47\n",
       "2312        1.37\n",
       "5019        1.75\n",
       "2673        2.52\n",
       "          ...   \n",
       "2052     8991.44\n",
       "15476    8991.46\n",
       "2736     8992.22\n",
       "7044     8992.45\n",
       "762      8994.62\n",
       "Name: global_sales, Length: 17408, dtype: float64"
      ]
     },
     "execution_count": 15,
     "metadata": {},
     "output_type": "execute_result"
    }
   ],
   "source": [
    "# Each cell is populated with the cumulative sum of the values seen so far.\n",
    "df['global_sales'].cumsum() "
   ]
  },
  {
   "cell_type": "code",
   "execution_count": 16,
   "id": "f4c1b25a-bd41-4661-a92e-cb9a902b69c5",
   "metadata": {},
   "outputs": [
    {
     "data": {
      "text/plain": [
       "5974      0.29\n",
       "8237      0.29\n",
       "2312      0.90\n",
       "5019      0.90\n",
       "2673      0.90\n",
       "         ...  \n",
       "2052     82.54\n",
       "15476    82.54\n",
       "2736     82.54\n",
       "7044     82.54\n",
       "762      82.54\n",
       "Name: global_sales, Length: 17408, dtype: float64"
      ]
     },
     "execution_count": 16,
     "metadata": {},
     "output_type": "execute_result"
    }
   ],
   "source": [
    "# Each cell is populated with the maximum value seen so far.\n",
    "df['global_sales'].cummax()"
   ]
  },
  {
   "cell_type": "code",
   "execution_count": 17,
   "id": "0691f71e-5ed1-486a-b9ac-5a9c969e09bf",
   "metadata": {},
   "outputs": [
    {
     "data": {
      "text/plain": [
       "5974     0.29\n",
       "8237     0.18\n",
       "2312     0.18\n",
       "5019     0.18\n",
       "2673     0.18\n",
       "         ... \n",
       "2052     0.01\n",
       "15476    0.01\n",
       "2736     0.01\n",
       "7044     0.01\n",
       "762      0.01\n",
       "Name: global_sales, Length: 17408, dtype: float64"
      ]
     },
     "execution_count": 17,
     "metadata": {},
     "output_type": "execute_result"
    }
   ],
   "source": [
    "# Each cell is populated with the minimum value seen so far.\n",
    "df['global_sales'].cummin()"
   ]
  },
  {
   "cell_type": "code",
   "execution_count": 18,
   "id": "173e4a6e-3295-4b16-9d2f-a366fe4ba7b6",
   "metadata": {},
   "outputs": [
    {
     "data": {
      "text/plain": [
       "5974     0.290000\n",
       "8237     0.052200\n",
       "2312     0.046980\n",
       "5019     0.017852\n",
       "2673     0.013746\n",
       "           ...   \n",
       "2052     0.000000\n",
       "15476    0.000000\n",
       "2736     0.000000\n",
       "7044     0.000000\n",
       "762      0.000000\n",
       "Name: global_sales, Length: 17408, dtype: float64"
      ]
     },
     "execution_count": 18,
     "metadata": {},
     "output_type": "execute_result"
    }
   ],
   "source": [
    "# Each cell is populated with the cumulative product of the values seen so far.\n",
    "df['global_sales'].cumprod()"
   ]
  },
  {
   "cell_type": "code",
   "execution_count": 19,
   "id": "3639ef66-e9ce-4e01-b3f5-f73df4e49ec2",
   "metadata": {},
   "outputs": [
    {
     "data": {
      "text/html": [
       "<div>\n",
       "<style scoped>\n",
       "    .dataframe tbody tr th:only-of-type {\n",
       "        vertical-align: middle;\n",
       "    }\n",
       "\n",
       "    .dataframe tbody tr th {\n",
       "        vertical-align: top;\n",
       "    }\n",
       "\n",
       "    .dataframe thead th {\n",
       "        text-align: right;\n",
       "    }\n",
       "</style>\n",
       "<table border=\"1\" class=\"dataframe\">\n",
       "  <thead>\n",
       "    <tr style=\"text-align: right;\">\n",
       "      <th></th>\n",
       "      <th>A</th>\n",
       "      <th>B</th>\n",
       "      <th>C</th>\n",
       "      <th>D</th>\n",
       "    </tr>\n",
       "  </thead>\n",
       "  <tbody>\n",
       "    <tr>\n",
       "      <th>0</th>\n",
       "      <td>5</td>\n",
       "      <td>55</td>\n",
       "      <td>220</td>\n",
       "      <td>1100</td>\n",
       "    </tr>\n",
       "    <tr>\n",
       "      <th>1</th>\n",
       "      <td>3</td>\n",
       "      <td>6</td>\n",
       "      <td>18</td>\n",
       "      <td>72</td>\n",
       "    </tr>\n",
       "    <tr>\n",
       "      <th>2</th>\n",
       "      <td>6</td>\n",
       "      <td>24</td>\n",
       "      <td>192</td>\n",
       "      <td>384</td>\n",
       "    </tr>\n",
       "    <tr>\n",
       "      <th>3</th>\n",
       "      <td>4</td>\n",
       "      <td>12</td>\n",
       "      <td>60</td>\n",
       "      <td>480</td>\n",
       "    </tr>\n",
       "  </tbody>\n",
       "</table>\n",
       "</div>"
      ],
      "text/plain": [
       "   A   B    C     D\n",
       "0  5  55  220  1100\n",
       "1  3   6   18    72\n",
       "2  6  24  192   384\n",
       "3  4  12   60   480"
      ]
     },
     "execution_count": 19,
     "metadata": {},
     "output_type": "execute_result"
    }
   ],
   "source": [
    "# Creating the dataframe\n",
    "df = pd.DataFrame({\"A\":[5, 3, 6, 4], \n",
    "                   \"B\":[11, 2, 4, 3],\n",
    "                   \"C\":[4, 3, 8, 5], \n",
    "                   \"D\":[5, 4, 2, 8]})\n",
    "  \n",
    "# cumulative product along column axis\n",
    "df.cumprod(axis = 1)"
   ]
  }
 ],
 "metadata": {
  "kernelspec": {
   "display_name": "Python 3 (ipykernel)",
   "language": "python",
   "name": "python3"
  },
  "language_info": {
   "codemirror_mode": {
    "name": "ipython",
    "version": 3
   },
   "file_extension": ".py",
   "mimetype": "text/x-python",
   "name": "python",
   "nbconvert_exporter": "python",
   "pygments_lexer": "ipython3",
   "version": "3.10.4"
  }
 },
 "nbformat": 4,
 "nbformat_minor": 5
}
